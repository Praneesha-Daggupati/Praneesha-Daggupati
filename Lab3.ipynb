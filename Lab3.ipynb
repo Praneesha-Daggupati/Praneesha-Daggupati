{
  "nbformat": 4,
  "nbformat_minor": 0,
  "metadata": {
    "colab": {
      "provenance": [],
      "mount_file_id": "1IVbIz3O5FbadEsP8wI0DyNY3qUhb9yxu",
      "authorship_tag": "ABX9TyPdaduYuSN0KRp0FwecufyC",
      "include_colab_link": true
    },
    "kernelspec": {
      "name": "python3",
      "display_name": "Python 3"
    },
    "language_info": {
      "name": "python"
    }
  },
  "cells": [
    {
      "cell_type": "markdown",
      "metadata": {
        "id": "view-in-github",
        "colab_type": "text"
      },
      "source": [
        "<a href=\"https://colab.research.google.com/github/Praneesha-Daggupati/Praneesha-Daggupati/blob/main/Lab3.ipynb\" target=\"_parent\"><img src=\"https://colab.research.google.com/assets/colab-badge.svg\" alt=\"Open In Colab\"/></a>"
      ]
    },
    {
      "cell_type": "markdown",
      "source": [
        "Q1 and Q2"
      ],
      "metadata": {
        "id": "lKwjWJ-PVJv6"
      }
    },
    {
      "cell_type": "code",
      "source": [
        "import pandas as pd\n",
        "import numpy as np\n",
        "\n",
        "data = pd.read_excel(\"/content/drive/MyDrive/Lab Session1 Data (1).xlsx\", usecols = \"B:E\")\n",
        "print(data)\n",
        "\n",
        "A = data[['Candies (#)','Mangoes (Kg)','Milk Packets (#)']].values\n",
        "C = data[['Payment (Rs)']].values\n",
        "\n",
        "print(\"Matrix A:\\n\", A)\n",
        "print(\"Matrix C:\\n\", C)\n",
        "\n",
        "dimensionality = A.shape[1]\n",
        "print(\"Dimensionality of the vector space:\", dimensionality)\n",
        "\n",
        "num_vectors = A.shape[0]\n",
        "print(\"Number of vectors in the vector space:\", num_vectors)\n",
        "\n",
        "rank_A = np.linalg.matrix_rank(A)\n",
        "print(\"Rank of Matrix A:\", rank_A)\n",
        "\n",
        "A_pseudo_inv = np.linalg.pinv(A)\n",
        "cost_per_product = np.dot(A_pseudo_inv, C)\n",
        "print(\"Cost of each product available for sale:\", cost_per_product)\n",
        "\n",
        "model_vector_X = np.dot(A_pseudo_inv, C)\n",
        "print(\"Model vector X for predicting product costs:\", model_vector_X)"
      ],
      "metadata": {
        "id": "_ozUpCbIVU-w",
        "outputId": "4881d1cd-c35d-440f-833e-657a061b4440",
        "colab": {
          "base_uri": "https://localhost:8080/"
        }
      },
      "execution_count": 4,
      "outputs": [
        {
          "output_type": "stream",
          "name": "stdout",
          "text": [
            "   Candies (#)  Mangoes (Kg)  Milk Packets (#)  Payment (Rs)\n",
            "0           20             6                 2           386\n",
            "1           16             3                 6           289\n",
            "2           27             6                 2           393\n",
            "3           19             1                 2           110\n",
            "4           24             4                 2           280\n",
            "5           22             1                 5           167\n",
            "6           15             4                 2           271\n",
            "7           18             4                 2           274\n",
            "8           21             1                 4           148\n",
            "9           16             2                 4           198\n",
            "Matrix A:\n",
            " [[20  6  2]\n",
            " [16  3  6]\n",
            " [27  6  2]\n",
            " [19  1  2]\n",
            " [24  4  2]\n",
            " [22  1  5]\n",
            " [15  4  2]\n",
            " [18  4  2]\n",
            " [21  1  4]\n",
            " [16  2  4]]\n",
            "Matrix C:\n",
            " [[386]\n",
            " [289]\n",
            " [393]\n",
            " [110]\n",
            " [280]\n",
            " [167]\n",
            " [271]\n",
            " [274]\n",
            " [148]\n",
            " [198]]\n",
            "Dimensionality of the vector space: 3\n",
            "Number of vectors in the vector space: 10\n",
            "Rank of Matrix A: 3\n",
            "Cost of each product available for sale: [[ 1.]\n",
            " [55.]\n",
            " [18.]]\n",
            "Model vector X for predicting product costs: [[ 1.]\n",
            " [55.]\n",
            " [18.]]\n"
          ]
        }
      ]
    },
    {
      "cell_type": "markdown",
      "source": [
        "Q3"
      ],
      "metadata": {
        "id": "YFG_va8zVW1c"
      }
    },
    {
      "cell_type": "code",
      "source": [
        "\n",
        "import pandas as pd\n",
        "import numpy as np\n",
        "from sklearn.model_selection import train_test_split\n",
        "from sklearn.linear_model import LogisticRegression\n",
        "\n",
        "def classifier(df):\n",
        "    features = [\"Candies (#)\", \"Mangoes (Kg)\", \"Milk Packets (#)\"]\n",
        "    X = df[features]\n",
        "    y = df['Category']\n",
        "    X_train, X_test, y_train, y_test = train_test_split(X, y, test_size=0.2)\n",
        "    classifier = LogisticRegression()\n",
        "    classifier.fit(X_train, y_train)\n",
        "    df['Predicted Category'] = classifier.predict(X)\n",
        "    return df\n",
        "\n",
        "\n",
        "# Load the dataset into a pandas DataFrame\n",
        "df = pd.read_excel(\"/content/drive/MyDrive/Lab Session1 Data (1).xlsx\")\n",
        "\n",
        "# Create the 'Category' column based on the payment amount\n",
        "df['Category'] = df['Payment (Rs)'].apply(lambda x: 'RICH' if x > 200 else 'POOR')\n",
        "\n",
        "# Run the classifier function\n",
        "df = classifier(df)\n",
        "\n",
        "# Print the relevant columns\n",
        "print(df[['Customer', 'Candies (#)', 'Mangoes (Kg)', 'Milk Packets (#)', 'Payment (Rs)', 'Category', 'Predicted Category']])\n"
      ],
      "metadata": {
        "id": "EDkG84u_VY-Y",
        "outputId": "f872a762-4b7b-477d-83be-8a54fbe56342",
        "colab": {
          "base_uri": "https://localhost:8080/"
        }
      },
      "execution_count": null,
      "outputs": [
        {
          "output_type": "stream",
          "name": "stdout",
          "text": [
            "  Customer  Candies (#)  Mangoes (Kg)  Milk Packets (#)  Payment (Rs)  \\\n",
            "0      C_1           20             6                 2           386   \n",
            "1      C_2           16             3                 6           289   \n",
            "2      C_3           27             6                 2           393   \n",
            "3      C_4           19             1                 2           110   \n",
            "4      C_5           24             4                 2           280   \n",
            "5      C_6           22             1                 5           167   \n",
            "6      C_7           15             4                 2           271   \n",
            "7      C_8           18             4                 2           274   \n",
            "8      C_9           21             1                 4           148   \n",
            "9     C_10           16             2                 4           198   \n",
            "\n",
            "  Category Predicted Category  \n",
            "0     RICH               RICH  \n",
            "1     RICH               RICH  \n",
            "2     RICH               RICH  \n",
            "3     POOR               POOR  \n",
            "4     RICH               RICH  \n",
            "5     POOR               POOR  \n",
            "6     RICH               RICH  \n",
            "7     RICH               RICH  \n",
            "8     POOR               POOR  \n",
            "9     POOR               POOR  \n"
          ]
        }
      ]
    },
    {
      "cell_type": "markdown",
      "source": [
        "Q4"
      ],
      "metadata": {
        "id": "LJHV_7MnVhNu"
      }
    },
    {
      "cell_type": "code",
      "source": [
        "\n",
        "import pandas as pd\n",
        "import statistics\n",
        "import matplotlib.pyplot as plt\n",
        "\n",
        "excel_file_path = \"/content/drive/MyDrive/Lab Session1 Data (1).xlsx\"\n",
        "df = pd.read_excel(excel_file_path, sheet_name='IRCTC Stock Price')\n",
        "\n",
        "price_mean = statistics.mean(df['Price'])\n",
        "price_variance = statistics.variance(df['Price'])\n",
        "print(f\"Mean of Price: {price_mean}\\n\")\n",
        "print(f\"Variance of Price: {price_variance}\\n\")\n",
        "\n",
        "wednesday_data = df[df['Day'] == 'Wed']\n",
        "wednesday_mean = statistics.mean(wednesday_data['Price'])\n",
        "print(f\"Population Mean of Price: {price_mean}\\n\")\n",
        "print(f\"Sample Mean of Price on Wednesdays: {wednesday_mean}\\n\")\n",
        "\n",
        "\n",
        "april_data = df[df['Month'] == 'Apr']\n",
        "april_mean = statistics.mean(april_data['Price'])\n",
        "print(f\"Population Mean of Price: {price_mean}\\n\")\n",
        "print(f\"Sample Mean of Price in April: {april_mean}\\n\")\n",
        "\n",
        "\n",
        "loss_probability = len(df[df['Chg%'] < 0]) / len(df)\n",
        "print(f\"Probability of making a loss: {loss_probability}\\n\")\n",
        "wednesday_profit_probability = len(wednesday_data[wednesday_data['Chg%'] > 0]) / len(wednesday_data)\n",
        "print(f\"Probability of making a profit on Wednesday: {wednesday_profit_probability}\\n\")\n",
        "conditional_profit_probability = wednesday_profit_probability / loss_probability\n",
        "print(f\"Conditional Probability of making profit, given today is Wednesday: {conditional_profit_probability}\\n\")\n",
        "day=['Mon','Tue','Wed','Thu','Fri']\n",
        "day1=[]\n",
        "chg1=[]\n",
        "for i in day:\n",
        "    for j in range(2,len(df['Day'])):\n",
        "        if i==df.loc[j,'Day']:\n",
        "            day1.append(i)\n",
        "            chg1.append(df.loc[j,'Chg%'])\n",
        "plt.scatter(day1, chg1)\n",
        "plt.xlabel('Day of the Week')\n",
        "plt.ylabel('Chg%')\n",
        "plt.title('Scatter plot of Chg% against the day of the week')\n",
        "plt.show()"
      ],
      "metadata": {
        "id": "q6ufx7awViSt",
        "outputId": "c86a8cb1-b00c-45c2-eb20-ddf013735c4b",
        "colab": {
          "base_uri": "https://localhost:8080/",
          "height": 799
        }
      },
      "execution_count": null,
      "outputs": [
        {
          "output_type": "stream",
          "name": "stdout",
          "text": [
            "Mean of Price: 1560.663453815261\n",
            "\n",
            "Variance of Price: 58732.365352539186\n",
            "\n",
            "Population Mean of Price: 1560.663453815261\n",
            "\n",
            "Sample Mean of Price on Wednesdays: 1550.706\n",
            "\n",
            "Population Mean of Price: 1560.663453815261\n",
            "\n",
            "Sample Mean of Price in April: 1698.9526315789474\n",
            "\n",
            "Probability of making a loss: 0.4979919678714859\n",
            "\n",
            "Probability of making a profit on Wednesday: 0.42\n",
            "\n",
            "Conditional Probability of making profit, given today is Wednesday: 0.8433870967741935\n",
            "\n"
          ]
        },
        {
          "output_type": "display_data",
          "data": {
            "text/plain": [
              "<Figure size 640x480 with 1 Axes>"
            ],
            "image/png": "[encoded data removed]"
          },
          "metadata": {}
        }
      ]
    }
  ]
}