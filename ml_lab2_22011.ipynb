{
  "nbformat": 4,
  "nbformat_minor": 0,
  "metadata": {
    "colab": {
      "provenance": [],
      "include_colab_link": true
    },
    "kernelspec": {
      "name": "python3",
      "display_name": "Python 3"
    },
    "language_info": {
      "name": "python"
    }
  },
  "cells": [
    {
      "cell_type": "markdown",
      "metadata": {
        "id": "view-in-github",
        "colab_type": "text"
      },
      "source": [
        "<a href=\"https://colab.research.google.com/github/Praneesha-Daggupati/Praneesha-Daggupati/blob/main/ml_lab2_22011.ipynb\" target=\"_parent\"><img src=\"https://colab.research.google.com/assets/colab-badge.svg\" alt=\"Open In Colab\"/></a>"
      ]
    },
    {
      "cell_type": "code",
      "execution_count": null,
      "metadata": {
        "colab": {
          "base_uri": "https://localhost:8080/"
        },
        "id": "IsK59o1jGJsf",
        "outputId": "655776bf-faa3-463f-abbc-6ddb4282caf8"
      },
      "outputs": [
        {
          "output_type": "stream",
          "name": "stdout",
          "text": [
            "Euclidean Distance: 8.660254037844387\n",
            "Manhattan Distance: 15\n"
          ]
        }
      ],
      "source": [
        "import math\n",
        "\n",
        "def euclidean_distance(v1, v2):\n",
        "    assert len(v1) == len(v2)\n",
        "# Calculating the squared differences for each dimension\n",
        "    squared_diff = [(x - y) ** 2 for x, y in zip(v1, v2)]\n",
        "    distance = math.sqrt(sum(squared_diff))\n",
        "    return distance\n",
        "\n",
        "def manhattan_distance(v1, v2):\n",
        "    assert len(v1) == len(v2)\n",
        "# Calculating absolute differences for each dimension\n",
        "    abs_diff = [abs(x - y) for x, y in zip(v1, v2)]\n",
        "    distance = sum(abs_diff)\n",
        "    return distance\n",
        "\n",
        "if __name__ == \"__main__\":\n",
        "    a = [1, 2, 3]\n",
        "    b = [6, 7, 8]\n",
        "#calling functions\n",
        "    euclidean_result = euclidean_distance(a, b)\n",
        "    manhattan_result = manhattan_distance(a, b)\n",
        "#output needed\n",
        "    print(f\"Euclidean Distance: {euclidean_result}\")\n",
        "    print(f\"Manhattan Distance: {manhattan_result}\")\n"
      ]
    },
    {
      "cell_type": "code",
      "source": [
        " def label_encode(data):\n",
        "    # Dictionary to store label mappings\n",
        "    labels = {}\n",
        "    counter = 0  # Counter for assigning labels\n",
        "    encoded_data = []  # List to store encoded labels\n",
        "\n",
        "    for category in data:\n",
        "        if category not in labels:\n",
        "            labels[category] = counter  # Assign a new label\n",
        "            counter += 1\n",
        "        encoded_data.append(labels[category])\n",
        "\n",
        "    return encoded_data\n",
        "\n",
        "if __name__ == \"__main__\":\n",
        "    input_data = [\"red\", \"green\", \"green\", \"red\", \"blue\",\"red\",\"yellow\"]\n",
        "    result = label_encode(input_data)\n",
        "\n",
        "    # Display the result\n",
        "    print(\"Original:\", input_data)\n",
        "    print(\"Encoded:\", result)\n"
      ],
      "metadata": {
        "colab": {
          "base_uri": "https://localhost:8080/"
        },
        "id": "DiLuriq3IvBr",
        "outputId": "e4bfb980-864e-400f-eb2b-0d4934e213b4"
      },
      "execution_count": null,
      "outputs": [
        {
          "output_type": "stream",
          "name": "stdout",
          "text": [
            "Original: ['red', 'green', 'green', 'red', 'blue', 'red', 'yellow']\n",
            "Encoded: [0, 1, 1, 0, 2, 0, 3]\n"
          ]
        }
      ]
    },
    {
      "cell_type": "code",
      "source": [
        "def one_hot_encode(categories):\n",
        "    \"\"\"Convert categories to One-Hot encoded vectors.\"\"\"\n",
        "    # Get unique categories and map to indices\n",
        "    unique_categories = sorted(set(categories))\n",
        "    category_to_index = {category: index for index, category in enumerate(unique_categories)}\n",
        "\n",
        "    # Initialize list for One-Hot encoded vectors\n",
        "    one_hot_encoded = []\n",
        "\n",
        "    # Encode each category\n",
        "    for category in categories:\n",
        "        encoded_vector = [0] * len(unique_categories)  # Vector of zeros\n",
        "        encoded_vector[category_to_index[category]] = 1  # Set index of category to 1\n",
        "        one_hot_encoded.append(encoded_vector)\n",
        "\n",
        "    return one_hot_encoded\n",
        "\n",
        "# Main program\n",
        "if __name__ == \"__main__\":\n",
        "    categories = [\"dog\", \"cat\", \"bird\", \"dog\"]  # Example categories\n",
        "    encoded_vectors = one_hot_encode(categories)  # Encode categories\n",
        "    print(\"One-Hot Encoded Vectors:\")  # Output results\n",
        "    for vector in encoded_vectors:\n",
        "        print(vector)\n"
      ],
      "metadata": {
        "id": "gPNwBRJmVngx",
        "outputId": "9ca90725-4585-4852-b227-68ad51e1f930",
        "colab": {
          "base_uri": "https://localhost:8080/"
        }
      },
      "execution_count": 1,
      "outputs": [
        {
          "output_type": "stream",
          "name": "stdout",
          "text": [
            "One-Hot Encoded Vectors:\n",
            "[0, 0, 1]\n",
            "[0, 1, 0]\n",
            "[1, 0, 0]\n",
            "[0, 0, 1]\n"
          ]
        }
      ]
    }
  ]
}