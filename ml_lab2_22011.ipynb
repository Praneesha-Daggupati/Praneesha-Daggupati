{
  "nbformat": 4,
  "nbformat_minor": 0,
  "metadata": {
    "colab": {
      "provenance": []
    },
    "kernelspec": {
      "name": "python3",
      "display_name": "Python 3"
    },
    "language_info": {
      "name": "python"
    }
  },
  "cells": [
    {
      "cell_type": "code",
      "execution_count": 7,
      "metadata": {
        "colab": {
          "base_uri": "https://localhost:8080/"
        },
        "id": "IsK59o1jGJsf",
        "outputId": "655776bf-faa3-463f-abbc-6ddb4282caf8"
      },
      "outputs": [
        {
          "output_type": "stream",
          "name": "stdout",
          "text": [
            "Euclidean Distance: 8.660254037844387\n",
            "Manhattan Distance: 15\n"
          ]
        }
      ],
      "source": [
        "import math\n",
        "\n",
        "def euclidean_distance(v1, v2):\n",
        "    assert len(v1) == len(v2)\n",
        "# Calculating the squared differences for each dimension\n",
        "    squared_diff = [(x - y) ** 2 for x, y in zip(v1, v2)]\n",
        "    distance = math.sqrt(sum(squared_diff))\n",
        "    return distance\n",
        "\n",
        "def manhattan_distance(v1, v2):\n",
        "    assert len(v1) == len(v2)\n",
        "# Calculating absolute differences for each dimension\n",
        "    abs_diff = [abs(x - y) for x, y in zip(v1, v2)]\n",
        "    distance = sum(abs_diff)\n",
        "    return distance\n",
        "\n",
        "if __name__ == \"__main__\":\n",
        "    a = [1, 2, 3]\n",
        "    b = [6, 7, 8]\n",
        "#calling functions\n",
        "    euclidean_result = euclidean_distance(a, b)\n",
        "    manhattan_result = manhattan_distance(a, b)\n",
        "#output needed\n",
        "    print(f\"Euclidean Distance: {euclidean_result}\")\n",
        "    print(f\"Manhattan Distance: {manhattan_result}\")\n"
      ]
    },
    {
      "cell_type": "code",
      "source": [
        " def label_encode(data):\n",
        "    # Dictionary to store label mappings\n",
        "    labels = {}\n",
        "    counter = 0  # Counter for assigning labels\n",
        "    encoded_data = []  # List to store encoded labels\n",
        "\n",
        "    for category in data:\n",
        "        if category not in labels:\n",
        "            labels[category] = counter  # Assign a new label\n",
        "            counter += 1\n",
        "        encoded_data.append(labels[category])\n",
        "\n",
        "    return encoded_data\n",
        "\n",
        "if __name__ == \"__main__\":\n",
        "    input_data = [\"red\", \"green\", \"green\", \"red\", \"blue\",\"red\",\"yellow\"]\n",
        "    result = label_encode(input_data)\n",
        "\n",
        "    # Display the result\n",
        "    print(\"Original:\", input_data)\n",
        "    print(\"Encoded:\", result)\n"
      ],
      "metadata": {
        "colab": {
          "base_uri": "https://localhost:8080/"
        },
        "id": "DiLuriq3IvBr",
        "outputId": "e4bfb980-864e-400f-eb2b-0d4934e213b4"
      },
      "execution_count": 11,
      "outputs": [
        {
          "output_type": "stream",
          "name": "stdout",
          "text": [
            "Original: ['red', 'green', 'green', 'red', 'blue', 'red', 'yellow']\n",
            "Encoded: [0, 1, 1, 0, 2, 0, 3]\n"
          ]
        }
      ]
    },
    {
      "cell_type": "code",
      "source": [],
      "metadata": {
        "id": "gPNwBRJmVngx"
      },
      "execution_count": null,
      "outputs": []
    }
  ]
}