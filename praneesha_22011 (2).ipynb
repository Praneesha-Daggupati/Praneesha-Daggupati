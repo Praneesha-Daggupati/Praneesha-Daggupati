{
  "nbformat": 4,
  "nbformat_minor": 0,
  "metadata": {
    "colab": {
      "provenance": []
    },
    "kernelspec": {
      "name": "python3",
      "display_name": "Python 3"
    },
    "language_info": {
      "name": "python"
    }
  },
  "cells": [
    {
      "cell_type": "code",
      "execution_count": 3,
      "metadata": {
        "colab": {
          "base_uri": "https://localhost:8080/"
        },
        "id": "3UklIHLc_c3n",
        "outputId": "81cd596d-d5df-490f-b616-a29315a23f86"
      },
      "outputs": [
        {
          "output_type": "stream",
          "name": "stdout",
          "text": [
            "total number of pairs with sum 10 is 2\n"
          ]
        }
      ],
      "source": [
        "def count_pairs_with_sum(list, target_sum):\n",
        "    # Initialize variable count=0\n",
        "    count = 0\n",
        "    # bellow is a loop to check all  pairs possible\n",
        "    for i in range(len(list)):\n",
        "        for j in range(i + 1, len(list)):\n",
        "            if list[i] + list[j] == target_sum:\n",
        "                count += 1\n",
        "    # Return the pairs count\n",
        "    return count\n",
        "\n",
        "if __name__ == \"__main__\":\n",
        "    # Example given in question\n",
        "    input_list = [2, 7, 4, 1, 3, 6]\n",
        "    target_sum = 10\n",
        "    # Calling the function to print the result\n",
        "    result = count_pairs_with_sum(input_list, target_sum)\n",
        "    print(\"total number of pairs with sum {} is : {}\".format(target_sum, result))\n",
        "\n"
      ]
    },
    {
      "cell_type": "code",
      "source": [
        "# Function to calculate the range for list of numbers\n",
        "def calculate_range(numbers):\n",
        "    # Checking if the list consistts less than 3 elements\n",
        "    if len(numbers) < 3:\n",
        "        return \"Range determination is not possible\"\n",
        "\n",
        "    # Initialize variables for minimum and maximum\n",
        "    min_number = numbers[0]\n",
        "    max_number = numbers[0]\n",
        "\n",
        "    # Loop through the list to find minimum and maximum\n",
        "    for num in numbers:\n",
        "        if num < min_number:\n",
        "            min_number = num\n",
        "        elif num > max_number:\n",
        "            max_number = num\n",
        "\n",
        "    # Calculate and return the range\n",
        "    range_result = max_number - min_number\n",
        "    return range_result\n",
        "\n",
        "# Example usage\n",
        "if __name__ == \"__main__\":\n",
        "    # Input list of real numbers\n",
        "    input_list = [5, 3, 8, 1, 0, 4]\n",
        "\n",
        "    # Calculate the range using the function\n",
        "    result = calculate_range(input_list)\n",
        "\n",
        "    # Display the result in the specified format\n",
        "    print(f\"The range is {result} ({max(input_list)} - {min(input_list)})\")\n"
      ],
      "metadata": {
        "colab": {
          "base_uri": "https://localhost:8080/"
        },
        "id": "i_Vpe5EZD1EN",
        "outputId": "61bdd125-890f-4f7d-a916-d8c9a28c031a"
      },
      "execution_count": 8,
      "outputs": [
        {
          "output_type": "stream",
          "name": "stdout",
          "text": [
            "The range is 8 (8 - 0)\n"
          ]
        }
      ]
    },
    {
      "cell_type": "code",
      "source": [
        "def multiply_matrices(matrix1, matrix2):\n",
        "    result_matrix = [[0, 0, 0], [0, 0, 0], [0, 0, 0]]\n",
        "    #initialisation of matrix\n",
        "    for i in range(3):\n",
        "        for j in range(3):\n",
        "            for k in range(3):\n",
        "                result_matrix[i][j] += matrix1[i][k] * matrix2[k][j]\n",
        "    #resulting matrix will be\n",
        "    return result_matrix\n",
        "\n",
        "def power_matrix(matrix, power):\n",
        "    if power == 1:\n",
        "        return matrix\n",
        "    result = matrix\n",
        "    for _ in range(2, power + 1):\n",
        "       #Multiply the result matrix by the original matrix\n",
        "        result = multiply_matrices(result, matrix)\n",
        "    return result\n",
        "\n",
        "if __name__ == \"__main__\":\n",
        "  #random example\n",
        "    matrix_A = [[1, 2, 3], [1, 3, 2], [3, 2, 1]]\n",
        "    exponent_m = 3\n",
        "\n",
        "    result_matrix = power_matrix(matrix_A, exponent_m)\n",
        "    # Calculate the matrix raised to the specified power\n",
        "    print(\"Matrix A raised to the power\", exponent_m, \"is:\")\n",
        "    for row in result_matrix:\n",
        "        print(row)\n"
      ],
      "metadata": {
        "colab": {
          "base_uri": "https://localhost:8080/"
        },
        "id": "kjUJV3u9D8FJ",
        "outputId": "d92e2f63-8c8b-4287-8f67-8d174356b28e"
      },
      "execution_count": 15,
      "outputs": [
        {
          "output_type": "stream",
          "name": "stdout",
          "text": [
            "Matrix A raised to the power 3 is:\n",
            "[56, 86, 74]\n",
            "[58, 87, 71]\n",
            "[64, 86, 66]\n"
          ]
        }
      ]
    },
    {
      "cell_type": "code",
      "source": [
        "def highest_occurrence(input_string):\n",
        "    char_count = {}  #Dictionary for storing  character occurrences\n",
        "# Iterate through each character in the input string\n",
        "    for char in input_string:\n",
        "# Checking if  character is an alphabet\n",
        "        if char.isalpha():\n",
        "# Updating  count for the character in the dictionary\n",
        "            if char in char_count:\n",
        "                char_count[char] += 1\n",
        "            else:\n",
        "                char_count[char] = 1\n",
        "\n",
        "    max_char = max(char_count, key=char_count.get)# Finding the character with max occurrence\n",
        "    max_occurrence = char_count[max_char]#occurrence count\n",
        "# Returning the result\n",
        "    return max_char, max_occurrence\n",
        "\n",
        "# Main program here\n",
        "if __name__ == \"__main__\":\n",
        "    user_input = input(\"Enter a string: \")  #input from the user\n",
        "    result_char, result_count = highest_occurrence(user_input)  # Calling the function\n",
        "    print(f\"The most occurring character is '{result_char}' with a count of {result_count}.\")\n"
      ],
      "metadata": {
        "colab": {
          "base_uri": "https://localhost:8080/"
        },
        "id": "67eHJOcqGmag",
        "outputId": "519f87ca-0663-4004-a0aa-bcd06c39ab18"
      },
      "execution_count": 14,
      "outputs": [
        {
          "output_type": "stream",
          "name": "stdout",
          "text": [
            "Enter a string: praneeshadaggupati\n",
            "The most occurring character is 'a' with a count of 4.\n"
          ]
        }
      ]
    }
  ]
}